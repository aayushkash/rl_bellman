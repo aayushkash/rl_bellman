{
 "cells": [
  {
   "cell_type": "code",
   "execution_count": 1,
   "metadata": {},
   "outputs": [],
   "source": [
    "import numpy as np\n"
   ]
  },
  {
   "cell_type": "code",
   "execution_count": 2,
   "metadata": {},
   "outputs": [],
   "source": [
    "def create_gridworld(size=4):\n",
    "    \"\"\"Initialize the GridWorld environment.\"\"\"\n",
    "    n_states = size * size\n",
    "    rewards = np.full((size, size), -1.0)\n",
    "    rewards[size-1, size-1] = 0.0  # Terminal state\n",
    "    return size, rewards\n"
   ]
  },
  {
   "cell_type": "code",
   "execution_count": 3,
   "metadata": {},
   "outputs": [],
   "source": [
    "def get_next_state(state, action, size):\n",
    "    \"\"\"Get next state given current state and action.\"\"\"\n",
    "    row = state // size\n",
    "    col = state % size\n",
    "    \n",
    "    # Initialize next_row and next_col with current position\n",
    "    next_row = row\n",
    "    next_col = col\n",
    "    \n",
    "    if action == 0:  # up\n",
    "        next_row = max(0, row - 1)\n",
    "    elif action == 1:  # down\n",
    "        next_row = min(size - 1, row + 1)\n",
    "    elif action == 2:  # left\n",
    "        next_col = max(0, col - 1)\n",
    "    else:  # right\n",
    "        next_col = min(size - 1, col + 1)\n",
    "    \n",
    "    return next_row * size + next_col\n"
   ]
  },
  {
   "cell_type": "code",
   "execution_count": 4,
   "metadata": {},
   "outputs": [],
   "source": [
    "def value_iteration(size=4, gamma=2, theta=1e-4):\n",
    "    \"\"\"Perform value iteration for the GridWorld.\"\"\"\n",
    "    size, rewards = create_gridworld(size)\n",
    "    n_states = size * size\n",
    "    n_actions = 4  # up, down, left, right\n",
    "    V = np.zeros((size, size))\n",
    "    \n",
    "    while True:\n",
    "        delta = 0\n",
    "        V_new = V.copy()\n",
    "        \n",
    "        # For each state\n",
    "        for row in range(size):\n",
    "            for col in range(size):\n",
    "                if row == size-1 and col == size-1:  # Skip terminal state\n",
    "                    continue\n",
    "                \n",
    "                state = row * size + col\n",
    "                v = float('-inf')\n",
    "                \n",
    "                # For each action\n",
    "                for action in range(n_actions):\n",
    "                    next_state = get_next_state(state, action, size)\n",
    "                    next_row = next_state // size\n",
    "                    next_col = next_state % size\n",
    "                    \n",
    "                    # Equal probability for all actions (0.25)\n",
    "                    v_action = 0.25 * (rewards[row, col] + gamma * V[next_row, next_col])\n",
    "                    v = max(v, v_action)\n",
    "                \n",
    "                V_new[row, col] = v\n",
    "                delta = max(delta, abs(V_new[row, col] - V[row, col]))\n",
    "        \n",
    "        V = V_new\n",
    "        if delta < theta:\n",
    "            break\n",
    "    \n",
    "    return V"
   ]
  },
  {
   "cell_type": "code",
   "execution_count": 5,
   "metadata": {},
   "outputs": [
    {
     "name": "stdout",
     "output_type": "stream",
     "text": [
      "\n",
      "Final Value Function:\n",
      "[[-0.4921875 -0.484375  -0.46875   -0.4375   ]\n",
      " [-0.484375  -0.46875   -0.4375    -0.375    ]\n",
      " [-0.46875   -0.4375    -0.375     -0.25     ]\n",
      " [-0.4375    -0.375     -0.25       0.       ]]\n"
     ]
    }
   ],
   "source": [
    "# Run the algorithm and print results\n",
    "V_final = value_iteration()\n",
    "print(\"\\nFinal Value Function:\")\n",
    "print(V_final) "
   ]
  },
  {
   "cell_type": "code",
   "execution_count": null,
   "metadata": {},
   "outputs": [],
   "source": []
  }
 ],
 "metadata": {
  "kernelspec": {
   "display_name": "base",
   "language": "python",
   "name": "python3"
  },
  "language_info": {
   "codemirror_mode": {
    "name": "ipython",
    "version": 3
   },
   "file_extension": ".py",
   "mimetype": "text/x-python",
   "name": "python",
   "nbconvert_exporter": "python",
   "pygments_lexer": "ipython3",
   "version": "3.9.12"
  }
 },
 "nbformat": 4,
 "nbformat_minor": 2
}
